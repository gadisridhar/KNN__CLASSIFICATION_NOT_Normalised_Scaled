{
 "cells": [
  {
   "cell_type": "markdown",
   "metadata": {},
   "source": [
    "For Binary Classification"
   ]
  },
  {
   "cell_type": "code",
   "execution_count": 1,
   "metadata": {},
   "outputs": [],
   "source": [
    "############################ For regression: f_regression, mutual_info_regression\n",
    "############################ For classification: chi2, f_classif, mutual_info_classif\n",
    "from sklearn.neighbors import NearestNeighbors,KNeighborsClassifier, KNeighborsRegressor, RadiusNeighborsClassifier\n",
    "from sklearn.preprocessing import StandardScaler\n",
    "from sklearn.metrics import r2_score, confusion_matrix, accuracy_score, classification_report, mean_squared_error\n",
    "from sklearn.preprocessing import OneHotEncoder, LabelEncoder\n",
    "from sklearn.compose import ColumnTransformer\n",
    "import numpy as np\n",
    "import pandas as pd\n",
    "import seaborn as sns\n",
    "import matplotlib.pyplot as plt\n",
    "from imblearn.over_sampling import SMOTE, ADASYN\n",
    "%matplotlib inline\n",
    "from sklearn.linear_model import RidgeCV\n",
    "from sklearn.feature_selection import SelectFromModel, SelectKBest, f_regression, mutual_info_regression, mutual_info_classif, chi2\n",
    "from time import time"
   ]
  },
  {
   "cell_type": "code",
   "execution_count": 2,
   "metadata": {},
   "outputs": [],
   "source": [
    "df = pd.read_csv('cancer.csv')"
   ]
  },
  {
   "cell_type": "code",
   "execution_count": 3,
   "metadata": {},
   "outputs": [
    {
     "data": {
      "text/html": [
       "<div>\n",
       "<style scoped>\n",
       "    .dataframe tbody tr th:only-of-type {\n",
       "        vertical-align: middle;\n",
       "    }\n",
       "\n",
       "    .dataframe tbody tr th {\n",
       "        vertical-align: top;\n",
       "    }\n",
       "\n",
       "    .dataframe thead th {\n",
       "        text-align: right;\n",
       "    }\n",
       "</style>\n",
       "<table border=\"1\" class=\"dataframe\">\n",
       "  <thead>\n",
       "    <tr style=\"text-align: right;\">\n",
       "      <th></th>\n",
       "      <th>id</th>\n",
       "      <th>radius_mean</th>\n",
       "      <th>texture_mean</th>\n",
       "      <th>perimeter_mean</th>\n",
       "      <th>area_mean</th>\n",
       "      <th>smoothness_mean</th>\n",
       "      <th>compactness_mean</th>\n",
       "      <th>concavity_mean</th>\n",
       "      <th>concave points_mean</th>\n",
       "      <th>symmetry_mean</th>\n",
       "      <th>...</th>\n",
       "      <th>texture_worst</th>\n",
       "      <th>perimeter_worst</th>\n",
       "      <th>area_worst</th>\n",
       "      <th>smoothness_worst</th>\n",
       "      <th>compactness_worst</th>\n",
       "      <th>concavity_worst</th>\n",
       "      <th>concave points_worst</th>\n",
       "      <th>symmetry_worst</th>\n",
       "      <th>fractal_dimension_worst</th>\n",
       "      <th>diagnosis</th>\n",
       "    </tr>\n",
       "  </thead>\n",
       "  <tbody>\n",
       "    <tr>\n",
       "      <th>0</th>\n",
       "      <td>842302</td>\n",
       "      <td>17.990</td>\n",
       "      <td>10.38</td>\n",
       "      <td>122.80</td>\n",
       "      <td>1001.0</td>\n",
       "      <td>0.11840</td>\n",
       "      <td>0.27760</td>\n",
       "      <td>0.300100</td>\n",
       "      <td>0.147100</td>\n",
       "      <td>0.2419</td>\n",
       "      <td>...</td>\n",
       "      <td>17.33</td>\n",
       "      <td>184.60</td>\n",
       "      <td>2019.0</td>\n",
       "      <td>0.1622</td>\n",
       "      <td>0.66560</td>\n",
       "      <td>0.71190</td>\n",
       "      <td>0.26540</td>\n",
       "      <td>0.4601</td>\n",
       "      <td>0.11890</td>\n",
       "      <td>M</td>\n",
       "    </tr>\n",
       "    <tr>\n",
       "      <th>1</th>\n",
       "      <td>842517</td>\n",
       "      <td>20.570</td>\n",
       "      <td>17.77</td>\n",
       "      <td>132.90</td>\n",
       "      <td>1326.0</td>\n",
       "      <td>0.08474</td>\n",
       "      <td>0.07864</td>\n",
       "      <td>0.086900</td>\n",
       "      <td>0.070170</td>\n",
       "      <td>0.1812</td>\n",
       "      <td>...</td>\n",
       "      <td>23.41</td>\n",
       "      <td>158.80</td>\n",
       "      <td>1956.0</td>\n",
       "      <td>0.1238</td>\n",
       "      <td>0.18660</td>\n",
       "      <td>0.24160</td>\n",
       "      <td>0.18600</td>\n",
       "      <td>0.2750</td>\n",
       "      <td>0.08902</td>\n",
       "      <td>M</td>\n",
       "    </tr>\n",
       "    <tr>\n",
       "      <th>2</th>\n",
       "      <td>84300903</td>\n",
       "      <td>19.690</td>\n",
       "      <td>21.25</td>\n",
       "      <td>130.00</td>\n",
       "      <td>1203.0</td>\n",
       "      <td>0.10960</td>\n",
       "      <td>0.15990</td>\n",
       "      <td>0.197400</td>\n",
       "      <td>0.127900</td>\n",
       "      <td>0.2069</td>\n",
       "      <td>...</td>\n",
       "      <td>25.53</td>\n",
       "      <td>152.50</td>\n",
       "      <td>1709.0</td>\n",
       "      <td>0.1444</td>\n",
       "      <td>0.42450</td>\n",
       "      <td>0.45040</td>\n",
       "      <td>0.24300</td>\n",
       "      <td>0.3613</td>\n",
       "      <td>0.08758</td>\n",
       "      <td>M</td>\n",
       "    </tr>\n",
       "    <tr>\n",
       "      <th>3</th>\n",
       "      <td>84348301</td>\n",
       "      <td>11.420</td>\n",
       "      <td>20.38</td>\n",
       "      <td>77.58</td>\n",
       "      <td>386.1</td>\n",
       "      <td>0.14250</td>\n",
       "      <td>0.28390</td>\n",
       "      <td>0.241400</td>\n",
       "      <td>0.105200</td>\n",
       "      <td>0.2597</td>\n",
       "      <td>...</td>\n",
       "      <td>26.50</td>\n",
       "      <td>98.87</td>\n",
       "      <td>567.7</td>\n",
       "      <td>0.2098</td>\n",
       "      <td>0.86630</td>\n",
       "      <td>0.68690</td>\n",
       "      <td>0.25750</td>\n",
       "      <td>0.6638</td>\n",
       "      <td>0.17300</td>\n",
       "      <td>M</td>\n",
       "    </tr>\n",
       "    <tr>\n",
       "      <th>4</th>\n",
       "      <td>84358402</td>\n",
       "      <td>20.290</td>\n",
       "      <td>14.34</td>\n",
       "      <td>135.10</td>\n",
       "      <td>1297.0</td>\n",
       "      <td>0.10030</td>\n",
       "      <td>0.13280</td>\n",
       "      <td>0.198000</td>\n",
       "      <td>0.104300</td>\n",
       "      <td>0.1809</td>\n",
       "      <td>...</td>\n",
       "      <td>16.67</td>\n",
       "      <td>152.20</td>\n",
       "      <td>1575.0</td>\n",
       "      <td>0.1374</td>\n",
       "      <td>0.20500</td>\n",
       "      <td>0.40000</td>\n",
       "      <td>0.16250</td>\n",
       "      <td>0.2364</td>\n",
       "      <td>0.07678</td>\n",
       "      <td>M</td>\n",
       "    </tr>\n",
       "    <tr>\n",
       "      <th>...</th>\n",
       "      <td>...</td>\n",
       "      <td>...</td>\n",
       "      <td>...</td>\n",
       "      <td>...</td>\n",
       "      <td>...</td>\n",
       "      <td>...</td>\n",
       "      <td>...</td>\n",
       "      <td>...</td>\n",
       "      <td>...</td>\n",
       "      <td>...</td>\n",
       "      <td>...</td>\n",
       "      <td>...</td>\n",
       "      <td>...</td>\n",
       "      <td>...</td>\n",
       "      <td>...</td>\n",
       "      <td>...</td>\n",
       "      <td>...</td>\n",
       "      <td>...</td>\n",
       "      <td>...</td>\n",
       "      <td>...</td>\n",
       "      <td>...</td>\n",
       "    </tr>\n",
       "    <tr>\n",
       "      <th>95</th>\n",
       "      <td>86208</td>\n",
       "      <td>20.260</td>\n",
       "      <td>23.03</td>\n",
       "      <td>132.40</td>\n",
       "      <td>1264.0</td>\n",
       "      <td>0.09078</td>\n",
       "      <td>0.13130</td>\n",
       "      <td>0.146500</td>\n",
       "      <td>0.086830</td>\n",
       "      <td>0.2095</td>\n",
       "      <td>...</td>\n",
       "      <td>31.59</td>\n",
       "      <td>156.10</td>\n",
       "      <td>1750.0</td>\n",
       "      <td>0.1190</td>\n",
       "      <td>0.35390</td>\n",
       "      <td>0.40980</td>\n",
       "      <td>0.15730</td>\n",
       "      <td>0.3689</td>\n",
       "      <td>0.08368</td>\n",
       "      <td>M</td>\n",
       "    </tr>\n",
       "    <tr>\n",
       "      <th>96</th>\n",
       "      <td>86211</td>\n",
       "      <td>12.180</td>\n",
       "      <td>17.84</td>\n",
       "      <td>77.79</td>\n",
       "      <td>451.1</td>\n",
       "      <td>0.10450</td>\n",
       "      <td>0.07057</td>\n",
       "      <td>0.024900</td>\n",
       "      <td>0.029410</td>\n",
       "      <td>0.1900</td>\n",
       "      <td>...</td>\n",
       "      <td>20.92</td>\n",
       "      <td>82.14</td>\n",
       "      <td>495.2</td>\n",
       "      <td>0.1140</td>\n",
       "      <td>0.09358</td>\n",
       "      <td>0.04980</td>\n",
       "      <td>0.05882</td>\n",
       "      <td>0.2227</td>\n",
       "      <td>0.07376</td>\n",
       "      <td>B</td>\n",
       "    </tr>\n",
       "    <tr>\n",
       "      <th>97</th>\n",
       "      <td>862261</td>\n",
       "      <td>9.787</td>\n",
       "      <td>19.94</td>\n",
       "      <td>62.11</td>\n",
       "      <td>294.5</td>\n",
       "      <td>0.10240</td>\n",
       "      <td>0.05301</td>\n",
       "      <td>0.006829</td>\n",
       "      <td>0.007937</td>\n",
       "      <td>0.1350</td>\n",
       "      <td>...</td>\n",
       "      <td>26.29</td>\n",
       "      <td>68.81</td>\n",
       "      <td>366.1</td>\n",
       "      <td>0.1316</td>\n",
       "      <td>0.09473</td>\n",
       "      <td>0.02049</td>\n",
       "      <td>0.02381</td>\n",
       "      <td>0.1934</td>\n",
       "      <td>0.08988</td>\n",
       "      <td>B</td>\n",
       "    </tr>\n",
       "    <tr>\n",
       "      <th>98</th>\n",
       "      <td>862485</td>\n",
       "      <td>11.600</td>\n",
       "      <td>12.84</td>\n",
       "      <td>74.34</td>\n",
       "      <td>412.6</td>\n",
       "      <td>0.08983</td>\n",
       "      <td>0.07525</td>\n",
       "      <td>0.041960</td>\n",
       "      <td>0.033500</td>\n",
       "      <td>0.1620</td>\n",
       "      <td>...</td>\n",
       "      <td>17.16</td>\n",
       "      <td>82.96</td>\n",
       "      <td>512.5</td>\n",
       "      <td>0.1431</td>\n",
       "      <td>0.18510</td>\n",
       "      <td>0.19220</td>\n",
       "      <td>0.08449</td>\n",
       "      <td>0.2772</td>\n",
       "      <td>0.08756</td>\n",
       "      <td>B</td>\n",
       "    </tr>\n",
       "    <tr>\n",
       "      <th>99</th>\n",
       "      <td>862548</td>\n",
       "      <td>14.420</td>\n",
       "      <td>19.77</td>\n",
       "      <td>94.48</td>\n",
       "      <td>642.5</td>\n",
       "      <td>0.09752</td>\n",
       "      <td>0.11410</td>\n",
       "      <td>0.093880</td>\n",
       "      <td>0.058390</td>\n",
       "      <td>0.1879</td>\n",
       "      <td>...</td>\n",
       "      <td>30.86</td>\n",
       "      <td>109.50</td>\n",
       "      <td>826.4</td>\n",
       "      <td>0.1431</td>\n",
       "      <td>0.30260</td>\n",
       "      <td>0.31940</td>\n",
       "      <td>0.15650</td>\n",
       "      <td>0.2718</td>\n",
       "      <td>0.09353</td>\n",
       "      <td>M</td>\n",
       "    </tr>\n",
       "  </tbody>\n",
       "</table>\n",
       "<p>100 rows × 32 columns</p>\n",
       "</div>"
      ],
      "text/plain": [
       "          id  radius_mean  texture_mean  perimeter_mean  area_mean  \\\n",
       "0     842302       17.990         10.38          122.80     1001.0   \n",
       "1     842517       20.570         17.77          132.90     1326.0   \n",
       "2   84300903       19.690         21.25          130.00     1203.0   \n",
       "3   84348301       11.420         20.38           77.58      386.1   \n",
       "4   84358402       20.290         14.34          135.10     1297.0   \n",
       "..       ...          ...           ...             ...        ...   \n",
       "95     86208       20.260         23.03          132.40     1264.0   \n",
       "96     86211       12.180         17.84           77.79      451.1   \n",
       "97    862261        9.787         19.94           62.11      294.5   \n",
       "98    862485       11.600         12.84           74.34      412.6   \n",
       "99    862548       14.420         19.77           94.48      642.5   \n",
       "\n",
       "    smoothness_mean  compactness_mean  concavity_mean  concave points_mean  \\\n",
       "0           0.11840           0.27760        0.300100             0.147100   \n",
       "1           0.08474           0.07864        0.086900             0.070170   \n",
       "2           0.10960           0.15990        0.197400             0.127900   \n",
       "3           0.14250           0.28390        0.241400             0.105200   \n",
       "4           0.10030           0.13280        0.198000             0.104300   \n",
       "..              ...               ...             ...                  ...   \n",
       "95          0.09078           0.13130        0.146500             0.086830   \n",
       "96          0.10450           0.07057        0.024900             0.029410   \n",
       "97          0.10240           0.05301        0.006829             0.007937   \n",
       "98          0.08983           0.07525        0.041960             0.033500   \n",
       "99          0.09752           0.11410        0.093880             0.058390   \n",
       "\n",
       "    symmetry_mean  ...  texture_worst  perimeter_worst  area_worst  \\\n",
       "0          0.2419  ...          17.33           184.60      2019.0   \n",
       "1          0.1812  ...          23.41           158.80      1956.0   \n",
       "2          0.2069  ...          25.53           152.50      1709.0   \n",
       "3          0.2597  ...          26.50            98.87       567.7   \n",
       "4          0.1809  ...          16.67           152.20      1575.0   \n",
       "..            ...  ...            ...              ...         ...   \n",
       "95         0.2095  ...          31.59           156.10      1750.0   \n",
       "96         0.1900  ...          20.92            82.14       495.2   \n",
       "97         0.1350  ...          26.29            68.81       366.1   \n",
       "98         0.1620  ...          17.16            82.96       512.5   \n",
       "99         0.1879  ...          30.86           109.50       826.4   \n",
       "\n",
       "    smoothness_worst  compactness_worst  concavity_worst  \\\n",
       "0             0.1622            0.66560          0.71190   \n",
       "1             0.1238            0.18660          0.24160   \n",
       "2             0.1444            0.42450          0.45040   \n",
       "3             0.2098            0.86630          0.68690   \n",
       "4             0.1374            0.20500          0.40000   \n",
       "..               ...                ...              ...   \n",
       "95            0.1190            0.35390          0.40980   \n",
       "96            0.1140            0.09358          0.04980   \n",
       "97            0.1316            0.09473          0.02049   \n",
       "98            0.1431            0.18510          0.19220   \n",
       "99            0.1431            0.30260          0.31940   \n",
       "\n",
       "    concave points_worst  symmetry_worst  fractal_dimension_worst  diagnosis  \n",
       "0                0.26540          0.4601                  0.11890          M  \n",
       "1                0.18600          0.2750                  0.08902          M  \n",
       "2                0.24300          0.3613                  0.08758          M  \n",
       "3                0.25750          0.6638                  0.17300          M  \n",
       "4                0.16250          0.2364                  0.07678          M  \n",
       "..                   ...             ...                      ...        ...  \n",
       "95               0.15730          0.3689                  0.08368          M  \n",
       "96               0.05882          0.2227                  0.07376          B  \n",
       "97               0.02381          0.1934                  0.08988          B  \n",
       "98               0.08449          0.2772                  0.08756          B  \n",
       "99               0.15650          0.2718                  0.09353          M  \n",
       "\n",
       "[100 rows x 32 columns]"
      ]
     },
     "execution_count": 3,
     "metadata": {},
     "output_type": "execute_result"
    }
   ],
   "source": [
    "df.head(100)\n"
   ]
  },
  {
   "cell_type": "code",
   "execution_count": 4,
   "metadata": {},
   "outputs": [],
   "source": [
    "\n",
    "# FEATURES FROM RIDGECV + SELECTFROMMODEL METHOD\n",
    "df = df[['compactness_mean','concave points_mean','smoothness_se','concavity_se','concave points_se','fractal_dimension_se','fractal_dimension_worst','diagnosis']]    \n",
    "# FEATURES FROM RIDGECV METHOD\n",
    "#df = df[['compactness_mean','smoothness_se','concave points_se','fractal_dimension_se','fractal_dimension_worst','concavity_se','diagnosis']]"
   ]
  },
  {
   "cell_type": "code",
   "execution_count": 5,
   "metadata": {},
   "outputs": [
    {
     "data": {
      "text/html": [
       "<div>\n",
       "<style scoped>\n",
       "    .dataframe tbody tr th:only-of-type {\n",
       "        vertical-align: middle;\n",
       "    }\n",
       "\n",
       "    .dataframe tbody tr th {\n",
       "        vertical-align: top;\n",
       "    }\n",
       "\n",
       "    .dataframe thead th {\n",
       "        text-align: right;\n",
       "    }\n",
       "</style>\n",
       "<table border=\"1\" class=\"dataframe\">\n",
       "  <thead>\n",
       "    <tr style=\"text-align: right;\">\n",
       "      <th></th>\n",
       "      <th>compactness_mean</th>\n",
       "      <th>concave points_mean</th>\n",
       "      <th>smoothness_se</th>\n",
       "      <th>concavity_se</th>\n",
       "      <th>concave points_se</th>\n",
       "      <th>fractal_dimension_se</th>\n",
       "      <th>fractal_dimension_worst</th>\n",
       "      <th>diagnosis</th>\n",
       "    </tr>\n",
       "  </thead>\n",
       "  <tbody>\n",
       "    <tr>\n",
       "      <th>0</th>\n",
       "      <td>0.27760</td>\n",
       "      <td>0.14710</td>\n",
       "      <td>0.006399</td>\n",
       "      <td>0.05373</td>\n",
       "      <td>0.01587</td>\n",
       "      <td>0.006193</td>\n",
       "      <td>0.11890</td>\n",
       "      <td>M</td>\n",
       "    </tr>\n",
       "    <tr>\n",
       "      <th>1</th>\n",
       "      <td>0.07864</td>\n",
       "      <td>0.07017</td>\n",
       "      <td>0.005225</td>\n",
       "      <td>0.01860</td>\n",
       "      <td>0.01340</td>\n",
       "      <td>0.003532</td>\n",
       "      <td>0.08902</td>\n",
       "      <td>M</td>\n",
       "    </tr>\n",
       "    <tr>\n",
       "      <th>2</th>\n",
       "      <td>0.15990</td>\n",
       "      <td>0.12790</td>\n",
       "      <td>0.006150</td>\n",
       "      <td>0.03832</td>\n",
       "      <td>0.02058</td>\n",
       "      <td>0.004571</td>\n",
       "      <td>0.08758</td>\n",
       "      <td>M</td>\n",
       "    </tr>\n",
       "    <tr>\n",
       "      <th>3</th>\n",
       "      <td>0.28390</td>\n",
       "      <td>0.10520</td>\n",
       "      <td>0.009110</td>\n",
       "      <td>0.05661</td>\n",
       "      <td>0.01867</td>\n",
       "      <td>0.009208</td>\n",
       "      <td>0.17300</td>\n",
       "      <td>M</td>\n",
       "    </tr>\n",
       "    <tr>\n",
       "      <th>4</th>\n",
       "      <td>0.13280</td>\n",
       "      <td>0.10430</td>\n",
       "      <td>0.011490</td>\n",
       "      <td>0.05688</td>\n",
       "      <td>0.01885</td>\n",
       "      <td>0.005115</td>\n",
       "      <td>0.07678</td>\n",
       "      <td>M</td>\n",
       "    </tr>\n",
       "    <tr>\n",
       "      <th>5</th>\n",
       "      <td>0.17000</td>\n",
       "      <td>0.08089</td>\n",
       "      <td>0.007510</td>\n",
       "      <td>0.03672</td>\n",
       "      <td>0.01137</td>\n",
       "      <td>0.005082</td>\n",
       "      <td>0.12440</td>\n",
       "      <td>M</td>\n",
       "    </tr>\n",
       "    <tr>\n",
       "      <th>6</th>\n",
       "      <td>0.10900</td>\n",
       "      <td>0.07400</td>\n",
       "      <td>0.004314</td>\n",
       "      <td>0.02254</td>\n",
       "      <td>0.01039</td>\n",
       "      <td>0.002179</td>\n",
       "      <td>0.08368</td>\n",
       "      <td>M</td>\n",
       "    </tr>\n",
       "    <tr>\n",
       "      <th>7</th>\n",
       "      <td>0.16450</td>\n",
       "      <td>0.05985</td>\n",
       "      <td>0.008805</td>\n",
       "      <td>0.02488</td>\n",
       "      <td>0.01448</td>\n",
       "      <td>0.005412</td>\n",
       "      <td>0.11510</td>\n",
       "      <td>M</td>\n",
       "    </tr>\n",
       "    <tr>\n",
       "      <th>8</th>\n",
       "      <td>0.19320</td>\n",
       "      <td>0.09353</td>\n",
       "      <td>0.005731</td>\n",
       "      <td>0.03553</td>\n",
       "      <td>0.01226</td>\n",
       "      <td>0.003749</td>\n",
       "      <td>0.10720</td>\n",
       "      <td>M</td>\n",
       "    </tr>\n",
       "    <tr>\n",
       "      <th>9</th>\n",
       "      <td>0.23960</td>\n",
       "      <td>0.08543</td>\n",
       "      <td>0.007149</td>\n",
       "      <td>0.07743</td>\n",
       "      <td>0.01432</td>\n",
       "      <td>0.010080</td>\n",
       "      <td>0.20750</td>\n",
       "      <td>M</td>\n",
       "    </tr>\n",
       "  </tbody>\n",
       "</table>\n",
       "</div>"
      ],
      "text/plain": [
       "   compactness_mean  concave points_mean  smoothness_se  concavity_se  \\\n",
       "0           0.27760              0.14710       0.006399       0.05373   \n",
       "1           0.07864              0.07017       0.005225       0.01860   \n",
       "2           0.15990              0.12790       0.006150       0.03832   \n",
       "3           0.28390              0.10520       0.009110       0.05661   \n",
       "4           0.13280              0.10430       0.011490       0.05688   \n",
       "5           0.17000              0.08089       0.007510       0.03672   \n",
       "6           0.10900              0.07400       0.004314       0.02254   \n",
       "7           0.16450              0.05985       0.008805       0.02488   \n",
       "8           0.19320              0.09353       0.005731       0.03553   \n",
       "9           0.23960              0.08543       0.007149       0.07743   \n",
       "\n",
       "   concave points_se  fractal_dimension_se  fractal_dimension_worst diagnosis  \n",
       "0            0.01587              0.006193                  0.11890         M  \n",
       "1            0.01340              0.003532                  0.08902         M  \n",
       "2            0.02058              0.004571                  0.08758         M  \n",
       "3            0.01867              0.009208                  0.17300         M  \n",
       "4            0.01885              0.005115                  0.07678         M  \n",
       "5            0.01137              0.005082                  0.12440         M  \n",
       "6            0.01039              0.002179                  0.08368         M  \n",
       "7            0.01448              0.005412                  0.11510         M  \n",
       "8            0.01226              0.003749                  0.10720         M  \n",
       "9            0.01432              0.010080                  0.20750         M  "
      ]
     },
     "execution_count": 5,
     "metadata": {},
     "output_type": "execute_result"
    }
   ],
   "source": [
    "df.head(10)"
   ]
  },
  {
   "cell_type": "code",
   "execution_count": 6,
   "metadata": {},
   "outputs": [
    {
     "data": {
      "text/plain": [
       "array(['compactness_mean', 'concave points_mean', 'smoothness_se',\n",
       "       'concavity_se', 'concave points_se', 'fractal_dimension_se',\n",
       "       'fractal_dimension_worst', 'diagnosis'], dtype=object)"
      ]
     },
     "execution_count": 6,
     "metadata": {},
     "output_type": "execute_result"
    }
   ],
   "source": [
    "np.array(df.columns)"
   ]
  },
  {
   "cell_type": "code",
   "execution_count": 7,
   "metadata": {},
   "outputs": [
    {
     "data": {
      "text/plain": [
       "<matplotlib.axes._subplots.AxesSubplot at 0x7fed42637d30>"
      ]
     },
     "execution_count": 7,
     "metadata": {},
     "output_type": "execute_result"
    },
    {
     "data": {
      "image/png": "[encoded data removed]",
      "text/plain": [
       "<Figure size 432x288 with 2 Axes>"
      ]
     },
     "metadata": {
      "needs_background": "light"
     },
     "output_type": "display_data"
    }
   ],
   "source": [
    "sns.heatmap(df.corr())"
   ]
  },
  {
   "cell_type": "code",
   "execution_count": 8,
   "metadata": {},
   "outputs": [
    {
     "data": {
      "text/html": [
       "<div>\n",
       "<style scoped>\n",
       "    .dataframe tbody tr th:only-of-type {\n",
       "        vertical-align: middle;\n",
       "    }\n",
       "\n",
       "    .dataframe tbody tr th {\n",
       "        vertical-align: top;\n",
       "    }\n",
       "\n",
       "    .dataframe thead th {\n",
       "        text-align: right;\n",
       "    }\n",
       "</style>\n",
       "<table border=\"1\" class=\"dataframe\">\n",
       "  <thead>\n",
       "    <tr style=\"text-align: right;\">\n",
       "      <th></th>\n",
       "      <th>compactness_mean</th>\n",
       "      <th>concave points_mean</th>\n",
       "      <th>smoothness_se</th>\n",
       "      <th>concavity_se</th>\n",
       "      <th>concave points_se</th>\n",
       "      <th>fractal_dimension_se</th>\n",
       "      <th>fractal_dimension_worst</th>\n",
       "      <th>diagnosis</th>\n",
       "    </tr>\n",
       "  </thead>\n",
       "  <tbody>\n",
       "    <tr>\n",
       "      <th>0</th>\n",
       "      <td>0.27760</td>\n",
       "      <td>0.147100</td>\n",
       "      <td>0.006399</td>\n",
       "      <td>0.053730</td>\n",
       "      <td>0.015870</td>\n",
       "      <td>0.006193</td>\n",
       "      <td>0.11890</td>\n",
       "      <td>1</td>\n",
       "    </tr>\n",
       "    <tr>\n",
       "      <th>1</th>\n",
       "      <td>0.07864</td>\n",
       "      <td>0.070170</td>\n",
       "      <td>0.005225</td>\n",
       "      <td>0.018600</td>\n",
       "      <td>0.013400</td>\n",
       "      <td>0.003532</td>\n",
       "      <td>0.08902</td>\n",
       "      <td>1</td>\n",
       "    </tr>\n",
       "    <tr>\n",
       "      <th>2</th>\n",
       "      <td>0.15990</td>\n",
       "      <td>0.127900</td>\n",
       "      <td>0.006150</td>\n",
       "      <td>0.038320</td>\n",
       "      <td>0.020580</td>\n",
       "      <td>0.004571</td>\n",
       "      <td>0.08758</td>\n",
       "      <td>1</td>\n",
       "    </tr>\n",
       "    <tr>\n",
       "      <th>3</th>\n",
       "      <td>0.28390</td>\n",
       "      <td>0.105200</td>\n",
       "      <td>0.009110</td>\n",
       "      <td>0.056610</td>\n",
       "      <td>0.018670</td>\n",
       "      <td>0.009208</td>\n",
       "      <td>0.17300</td>\n",
       "      <td>1</td>\n",
       "    </tr>\n",
       "    <tr>\n",
       "      <th>4</th>\n",
       "      <td>0.13280</td>\n",
       "      <td>0.104300</td>\n",
       "      <td>0.011490</td>\n",
       "      <td>0.056880</td>\n",
       "      <td>0.018850</td>\n",
       "      <td>0.005115</td>\n",
       "      <td>0.07678</td>\n",
       "      <td>1</td>\n",
       "    </tr>\n",
       "    <tr>\n",
       "      <th>...</th>\n",
       "      <td>...</td>\n",
       "      <td>...</td>\n",
       "      <td>...</td>\n",
       "      <td>...</td>\n",
       "      <td>...</td>\n",
       "      <td>...</td>\n",
       "      <td>...</td>\n",
       "      <td>...</td>\n",
       "    </tr>\n",
       "    <tr>\n",
       "      <th>95</th>\n",
       "      <td>0.13130</td>\n",
       "      <td>0.086830</td>\n",
       "      <td>0.006016</td>\n",
       "      <td>0.042320</td>\n",
       "      <td>0.012690</td>\n",
       "      <td>0.004411</td>\n",
       "      <td>0.08368</td>\n",
       "      <td>1</td>\n",
       "    </tr>\n",
       "    <tr>\n",
       "      <th>96</th>\n",
       "      <td>0.07057</td>\n",
       "      <td>0.029410</td>\n",
       "      <td>0.005433</td>\n",
       "      <td>0.011310</td>\n",
       "      <td>0.015190</td>\n",
       "      <td>0.003408</td>\n",
       "      <td>0.07376</td>\n",
       "      <td>0</td>\n",
       "    </tr>\n",
       "    <tr>\n",
       "      <th>97</th>\n",
       "      <td>0.05301</td>\n",
       "      <td>0.007937</td>\n",
       "      <td>0.011130</td>\n",
       "      <td>0.005308</td>\n",
       "      <td>0.005250</td>\n",
       "      <td>0.005667</td>\n",
       "      <td>0.08988</td>\n",
       "      <td>0</td>\n",
       "    </tr>\n",
       "    <tr>\n",
       "      <th>98</th>\n",
       "      <td>0.07525</td>\n",
       "      <td>0.033500</td>\n",
       "      <td>0.006153</td>\n",
       "      <td>0.016930</td>\n",
       "      <td>0.006884</td>\n",
       "      <td>0.002551</td>\n",
       "      <td>0.08756</td>\n",
       "      <td>0</td>\n",
       "    </tr>\n",
       "    <tr>\n",
       "      <th>99</th>\n",
       "      <td>0.11410</td>\n",
       "      <td>0.058390</td>\n",
       "      <td>0.008005</td>\n",
       "      <td>0.033210</td>\n",
       "      <td>0.014240</td>\n",
       "      <td>0.004452</td>\n",
       "      <td>0.09353</td>\n",
       "      <td>1</td>\n",
       "    </tr>\n",
       "  </tbody>\n",
       "</table>\n",
       "<p>100 rows × 8 columns</p>\n",
       "</div>"
      ],
      "text/plain": [
       "    compactness_mean  concave points_mean  smoothness_se  concavity_se  \\\n",
       "0            0.27760             0.147100       0.006399      0.053730   \n",
       "1            0.07864             0.070170       0.005225      0.018600   \n",
       "2            0.15990             0.127900       0.006150      0.038320   \n",
       "3            0.28390             0.105200       0.009110      0.056610   \n",
       "4            0.13280             0.104300       0.011490      0.056880   \n",
       "..               ...                  ...            ...           ...   \n",
       "95           0.13130             0.086830       0.006016      0.042320   \n",
       "96           0.07057             0.029410       0.005433      0.011310   \n",
       "97           0.05301             0.007937       0.011130      0.005308   \n",
       "98           0.07525             0.033500       0.006153      0.016930   \n",
       "99           0.11410             0.058390       0.008005      0.033210   \n",
       "\n",
       "    concave points_se  fractal_dimension_se  fractal_dimension_worst  \\\n",
       "0            0.015870              0.006193                  0.11890   \n",
       "1            0.013400              0.003532                  0.08902   \n",
       "2            0.020580              0.004571                  0.08758   \n",
       "3            0.018670              0.009208                  0.17300   \n",
       "4            0.018850              0.005115                  0.07678   \n",
       "..                ...                   ...                      ...   \n",
       "95           0.012690              0.004411                  0.08368   \n",
       "96           0.015190              0.003408                  0.07376   \n",
       "97           0.005250              0.005667                  0.08988   \n",
       "98           0.006884              0.002551                  0.08756   \n",
       "99           0.014240              0.004452                  0.09353   \n",
       "\n",
       "    diagnosis  \n",
       "0           1  \n",
       "1           1  \n",
       "2           1  \n",
       "3           1  \n",
       "4           1  \n",
       "..        ...  \n",
       "95          1  \n",
       "96          0  \n",
       "97          0  \n",
       "98          0  \n",
       "99          1  \n",
       "\n",
       "[100 rows x 8 columns]"
      ]
     },
     "execution_count": 8,
     "metadata": {},
     "output_type": "execute_result"
    }
   ],
   "source": [
    "df['diagnosis'].replace(['M','B'], [1,0], inplace = True)\n",
    "df.head(100)"
   ]
  },
  {
   "cell_type": "code",
   "execution_count": 9,
   "metadata": {},
   "outputs": [
    {
     "data": {
      "text/plain": [
       "0    357\n",
       "1    212\n",
       "Name: diagnosis, dtype: int64"
      ]
     },
     "execution_count": 9,
     "metadata": {},
     "output_type": "execute_result"
    }
   ],
   "source": [
    "df['diagnosis'].value_counts()"
   ]
  },
  {
   "cell_type": "code",
   "execution_count": 10,
   "metadata": {},
   "outputs": [
    {
     "name": "stdout",
     "output_type": "stream",
     "text": [
      "(569,)\n",
      "<class 'numpy.ndarray'>\n"
     ]
    }
   ],
   "source": [
    "#Y = df.iloc[:, 1].values\n",
    "Y =  df[\"diagnosis\"].values\n",
    "print(Y.shape)\n",
    "print(type(Y))\n",
    "#print(Y)"
   ]
  },
  {
   "cell_type": "code",
   "execution_count": 11,
   "metadata": {},
   "outputs": [
    {
     "name": "stdout",
     "output_type": "stream",
     "text": [
      "(569, 7)\n",
      "<class 'numpy.ndarray'>\n",
      "[[0.2776   0.1471   0.006399 ... 0.01587  0.006193 0.1189  ]\n",
      " [0.07864  0.07017  0.005225 ... 0.0134   0.003532 0.08902 ]\n",
      " [0.1599   0.1279   0.00615  ... 0.02058  0.004571 0.08758 ]\n",
      " ...\n",
      " [0.1023   0.05302  0.005903 ... 0.01557  0.003892 0.0782  ]\n",
      " [0.277    0.152    0.006522 ... 0.01664  0.006185 0.124   ]\n",
      " [0.04362  0.       0.007189 ... 0.       0.002783 0.07039 ]]\n"
     ]
    }
   ],
   "source": [
    "df = df.drop([\"diagnosis\"], axis=1)\n",
    "\n",
    "X = df.values\n",
    "print(X.shape)\n",
    "print(type(X))\n",
    "print(X)"
   ]
  },
  {
   "cell_type": "code",
   "execution_count": 12,
   "metadata": {},
   "outputs": [
    {
     "name": "stdout",
     "output_type": "stream",
     "text": [
      "(569, 7)\n"
     ]
    }
   ],
   "source": [
    "# #CHECKING THE FEATURE IMPORTANCE USING THE SELECTKBEST ALSO KNOWN AS CHI2\n",
    "\n",
    "X_new = SelectKBest(chi2, k=7).fit_transform(X, Y)\n",
    "print(X_new.shape)\n",
    "\n",
    "# #CHECKING THE FEATURE IMPORTANCE USING THE RIDGECV + SELECTFROMMODEL\n",
    "# ridge = RidgeCV(alphas=np.logspace(-10, 10, num=5)).fit(X, Y)\n",
    "# importance = np.abs(ridge.coef_)\n",
    "# feature_names = np.array(df.columns)\n",
    "\n",
    "# threshold = np.sort(importance)[-8] + 0.01\n",
    "\n",
    "# tic = time()\n",
    "# sfm = SelectFromModel(ridge, threshold=threshold).fit(X, Y)\n",
    "# toc = time()\n",
    "# print(f\"Features selected by SelectFromModel: {feature_names[sfm.get_support()]}\")\n",
    "# print(f\"Done in {toc - tic:.3f}s\")\n"
   ]
  },
  {
   "cell_type": "code",
   "execution_count": 13,
   "metadata": {},
   "outputs": [
    {
     "name": "stdout",
     "output_type": "stream",
     "text": [
      "[[0.2776   0.1471   0.006399 ... 0.01587  0.006193 0.1189  ]\n",
      " [0.07864  0.07017  0.005225 ... 0.0134   0.003532 0.08902 ]\n",
      " [0.1599   0.1279   0.00615  ... 0.02058  0.004571 0.08758 ]\n",
      " ...\n",
      " [0.1023   0.05302  0.005903 ... 0.01557  0.003892 0.0782  ]\n",
      " [0.277    0.152    0.006522 ... 0.01664  0.006185 0.124   ]\n",
      " [0.04362  0.       0.007189 ... 0.       0.002783 0.07039 ]]\n"
     ]
    }
   ],
   "source": [
    "print(X_new)"
   ]
  },
  {
   "cell_type": "code",
   "execution_count": 14,
   "metadata": {},
   "outputs": [
    {
     "name": "stdout",
     "output_type": "stream",
     "text": [
      "[1 1 1 1 1 1 1 1 1 1 1 1 1 1 1 1 1 1 1 0 0 0 1 1 1 1 1 1 1 1 1 1 1 1 1 1 1\n",
      " 0 1 1 1 1 1 1 1 1 0 1 0 0 0 0 0 1 1 0 1 1 0 0 0 0 1 0 1 1 0 0 0 0 1 0 1 1\n",
      " 0 1 0 1 1 0 0 0 1 1 0 1 1 1 0 0 0 1 0 0 1 1 0 0 0 1 1 0 0 0 0 1 0 0 1 0 0\n",
      " 0 0 0 0 0 0 1 1 1 0 1 1 0 0 0 1 1 0 1 0 1 1 0 1 1 0 0 1 0 0 1 0 0 0 0 1 0\n",
      " 0 0 0 0 0 0 0 0 1 0 0 0 0 1 1 0 1 0 0 1 1 0 0 1 1 0 0 0 0 1 0 0 1 1 1 0 1\n",
      " 0 1 0 0 0 1 0 0 1 1 0 1 1 1 1 0 1 1 1 0 1 0 1 0 0 1 0 1 1 1 1 0 0 1 1 0 0\n",
      " 0 1 0 0 0 0 0 1 1 0 0 1 0 0 1 1 0 1 0 0 0 0 1 0 0 0 0 0 1 0 1 1 1 1 1 1 1\n",
      " 1 1 1 1 1 1 1 0 0 0 0 0 0 1 0 1 0 0 1 0 0 1 0 1 1 0 0 0 0 0 0 0 0 0 0 0 0\n",
      " 0 1 0 0 1 0 1 0 0 0 0 0 0 0 0 0 0 0 0 0 0 1 0 0 0 1 0 1 0 0 0 0 1 1 1 0 0\n",
      " 0 0 1 0 1 0 1 0 0 0 1 0 0 0 0 0 0 0 1 1 1 0 0 0 0 0 0 0 0 0 0 0 1 1 0 1 1\n",
      " 1 0 1 1 0 0 0 0 0 1 0 0 0 0 0 1 0 0 0 1 0 0 1 1 0 0 0 0 0 0 1 0 0 0 0 0 0\n",
      " 0 1 0 0 0 0 0 1 0 0 1 0 0 0 0 0 0 0 0 0 0 0 0 1 0 1 1 0 1 0 0 0 0 0 1 0 0\n",
      " 1 0 1 0 0 1 0 1 0 0 0 0 0 0 0 0 1 1 0 0 0 0 0 0 1 0 0 0 0 0 0 0 0 0 0 1 0\n",
      " 0 0 0 0 0 0 1 0 1 0 0 1 0 0 0 0 0 1 1 0 1 0 1 0 0 0 0 0 1 0 0 1 0 1 0 1 1\n",
      " 0 0 0 1 0 0 0 0 0 0 0 0 0 0 0 1 0 1 1 0 0 0 0 0 0 0 0 0 0 0 0 0 0 0 0 0 0\n",
      " 0 0 0 0 0 0 0 1 1 1 1 1 1 0]\n"
     ]
    }
   ],
   "source": [
    "Y_new = Y\n",
    "print(Y_new)"
   ]
  },
  {
   "cell_type": "code",
   "execution_count": 15,
   "metadata": {},
   "outputs": [],
   "source": [
    "# IMP = pd.DataFrame(importance) \n",
    "# #print(IMP)\n",
    "# FEATNAMES =  pd.DataFrame(feature_names)\n",
    "# #print(FEATNAMES)\n",
    "# frames = [IMP, FEATNAMES]\n",
    "# result = pd.concat([IMP, FEATNAMES], axis=1)\n",
    "# (result)\n",
    "\n",
    "# CONSIDERING FEATURES FROM RIDGECV\n",
    "# - compactness_mean\n",
    "# - smoothness_se\n",
    "# - concave points_se\n",
    "# - fractal_dimension_se\n",
    "# - fractal_dimension_worst\n",
    "# - concavity_se"
   ]
  },
  {
   "cell_type": "code",
   "execution_count": 16,
   "metadata": {},
   "outputs": [],
   "source": [
    "from sklearn.model_selection import train_test_split\n",
    "X_train, X_test, Y_train, Y_test = train_test_split(X_new,Y_new, test_size=0.3, random_state=42)"
   ]
  },
  {
   "cell_type": "code",
   "execution_count": 17,
   "metadata": {},
   "outputs": [
    {
     "data": {
      "text/plain": [
       "array([[0.06376 , 0.01329 , 0.002838, 0.0178  , 0.005828, 0.001976,\n",
       "        0.07014 ],\n",
       "       [0.07325 , 0.028   , 0.005919, 0.04957 , 0.01038 , 0.004076,\n",
       "        0.07628 ],\n",
       "       [0.1836  , 0.063   , 0.009976, 0.05278 , 0.0158  , 0.005444,\n",
       "        0.09208 ],\n",
       "       [0.05366 , 0.02377 , 0.005298, 0.02321 , 0.00842 , 0.002152,\n",
       "        0.06949 ],\n",
       "       [0.06747 , 0.02443 , 0.005868, 0.02021 , 0.009064, 0.002583,\n",
       "        0.06953 ]])"
      ]
     },
     "execution_count": 17,
     "metadata": {},
     "output_type": "execute_result"
    }
   ],
   "source": [
    "X_train[0:5]"
   ]
  },
  {
   "cell_type": "code",
   "execution_count": 18,
   "metadata": {},
   "outputs": [
    {
     "data": {
      "text/plain": [
       "array([[0.1058  , 0.03821 , 0.006953, 0.02701 , 0.01037 , 0.003586,\n",
       "        0.0875  ],\n",
       "       [0.1029  , 0.07951 , 0.004444, 0.02269 , 0.0137  , 0.001698,\n",
       "        0.06589 ],\n",
       "       [0.1223  , 0.08087 , 0.00624 , 0.02813 , 0.01093 , 0.002461,\n",
       "        0.08019 ],\n",
       "       [0.1316  , 0.02799 , 0.01    , 0.04861 , 0.01167 , 0.006005,\n",
       "        0.09359 ],\n",
       "       [0.112   , 0.02594 , 0.01215 , 0.05553 , 0.01494 , 0.005512,\n",
       "        0.08134 ]])"
      ]
     },
     "execution_count": 18,
     "metadata": {},
     "output_type": "execute_result"
    }
   ],
   "source": [
    "X_test[0:5]"
   ]
  },
  {
   "cell_type": "code",
   "execution_count": 19,
   "metadata": {},
   "outputs": [
    {
     "data": {
      "text/plain": [
       "array([[ 0.04881894, -0.27160323, -0.03243804, ..., -0.24989363,\n",
       "        -0.07738565,  0.22648723],\n",
       "       [-0.00788341,  0.82493143, -0.8391736 , ...,  0.28494935,\n",
       "        -0.79048803, -1.00866239],\n",
       "       [ 0.37143576,  0.86104008, -0.2616937 , ..., -0.15995007,\n",
       "        -0.502301  , -0.19132599],\n",
       "       ...,\n",
       "       [ 0.51025876, -0.29948123,  1.86687918, ...,  2.03563657,\n",
       "         5.33660242,  1.86687566],\n",
       "       [ 1.26694184,  0.50844975,  0.84439251, ...,  0.68005857,\n",
       "         1.21020228,  1.98690408],\n",
       "       [ 0.61193194, -0.22938797, -0.49930932, ...,  0.28494935,\n",
       "         1.42171569,  1.95832589]])"
      ]
     },
     "execution_count": 19,
     "metadata": {},
     "output_type": "execute_result"
    }
   ],
   "source": [
    "scaler = StandardScaler()\n",
    "scaler.fit_transform(X_train)\n",
    "scaler.transform(X_test)"
   ]
  },
  {
   "cell_type": "code",
   "execution_count": 20,
   "metadata": {},
   "outputs": [
    {
     "data": {
      "text/plain": [
       "array([[0.06376 , 0.01329 , 0.002838, 0.0178  , 0.005828, 0.001976,\n",
       "        0.07014 ],\n",
       "       [0.07325 , 0.028   , 0.005919, 0.04957 , 0.01038 , 0.004076,\n",
       "        0.07628 ],\n",
       "       [0.1836  , 0.063   , 0.009976, 0.05278 , 0.0158  , 0.005444,\n",
       "        0.09208 ],\n",
       "       [0.05366 , 0.02377 , 0.005298, 0.02321 , 0.00842 , 0.002152,\n",
       "        0.06949 ],\n",
       "       [0.06747 , 0.02443 , 0.005868, 0.02021 , 0.009064, 0.002583,\n",
       "        0.06953 ]])"
      ]
     },
     "execution_count": 20,
     "metadata": {},
     "output_type": "execute_result"
    }
   ],
   "source": [
    "X_train[0:5]"
   ]
  },
  {
   "cell_type": "code",
   "execution_count": 21,
   "metadata": {},
   "outputs": [
    {
     "data": {
      "text/plain": [
       "array([[0.1058  , 0.03821 , 0.006953, 0.02701 , 0.01037 , 0.003586,\n",
       "        0.0875  ],\n",
       "       [0.1029  , 0.07951 , 0.004444, 0.02269 , 0.0137  , 0.001698,\n",
       "        0.06589 ],\n",
       "       [0.1223  , 0.08087 , 0.00624 , 0.02813 , 0.01093 , 0.002461,\n",
       "        0.08019 ],\n",
       "       [0.1316  , 0.02799 , 0.01    , 0.04861 , 0.01167 , 0.006005,\n",
       "        0.09359 ],\n",
       "       [0.112   , 0.02594 , 0.01215 , 0.05553 , 0.01494 , 0.005512,\n",
       "        0.08134 ]])"
      ]
     },
     "execution_count": 21,
     "metadata": {},
     "output_type": "execute_result"
    }
   ],
   "source": [
    "X_test[0:5]"
   ]
  },
  {
   "cell_type": "code",
   "execution_count": 22,
   "metadata": {},
   "outputs": [
    {
     "name": "stdout",
     "output_type": "stream",
     "text": [
      "(398, 7)\n",
      "(171, 7)\n",
      "(398,)\n",
      "(171,)\n",
      "<class 'numpy.ndarray'>\n",
      "<class 'numpy.ndarray'>\n"
     ]
    }
   ],
   "source": [
    "print(X_train.shape)\n",
    "print(X_test.shape)\n",
    "print(Y_train.shape)\n",
    "print(Y_test.shape)\n",
    "print(type(X_train))\n",
    "print(type(Y_train))"
   ]
  },
  {
   "cell_type": "code",
   "execution_count": 23,
   "metadata": {},
   "outputs": [
    {
     "data": {
      "text/plain": [
       "array([[0.06376 , 0.01329 , 0.002838, ..., 0.005828, 0.001976, 0.07014 ],\n",
       "       [0.07325 , 0.028   , 0.005919, ..., 0.01038 , 0.004076, 0.07628 ],\n",
       "       [0.1836  , 0.063   , 0.009976, ..., 0.0158  , 0.005444, 0.09208 ],\n",
       "       ...,\n",
       "       [0.02675 , 0.00625 , 0.003492, ..., 0.003608, 0.001381, 0.0612  ],\n",
       "       [0.1133  , 0.06463 , 0.005314, ..., 0.009567, 0.002846, 0.1055  ],\n",
       "       [0.04038 , 0.0177  , 0.00508 , ..., 0.006797, 0.001532, 0.06878 ]])"
      ]
     },
     "execution_count": 23,
     "metadata": {},
     "output_type": "execute_result"
    }
   ],
   "source": [
    "X_train\n",
    "#type(X_train)"
   ]
  },
  {
   "cell_type": "code",
   "execution_count": 24,
   "metadata": {},
   "outputs": [
    {
     "data": {
      "text/plain": [
       "array([0, 0, 0, 0, 0, 1, 0, 0, 0, 0, 0, 0, 1, 1, 1, 0, 0, 1, 0, 1, 0, 0,\n",
       "       0, 0, 1, 0, 0, 1, 0, 0, 0, 1, 0, 1, 1, 0, 0, 0, 1, 0, 0, 0, 0, 1,\n",
       "       0, 0, 0, 0, 0, 1, 0, 1, 1, 0, 0, 1, 0, 0, 0, 0, 0, 0, 0, 1, 1, 1,\n",
       "       0, 0, 1, 0, 0, 1, 0, 1, 0, 1, 0, 1, 0, 0, 1, 0, 0, 0, 1, 0, 1, 0,\n",
       "       1, 0, 1, 0, 0, 1, 0, 0, 0, 0, 1, 0, 0, 0, 1, 0, 0, 1, 0, 0, 1, 0,\n",
       "       0, 0, 0, 0, 0, 0, 1, 0, 0, 0, 1, 0, 1, 0, 0, 0, 1, 0, 1, 1, 0, 0,\n",
       "       1, 0, 1, 1, 1, 0, 0, 0, 1, 0, 0, 1, 0, 1, 0, 0, 0, 1, 0, 1, 0, 0,\n",
       "       1, 1, 0, 0, 1, 0, 1, 1, 0, 1, 1, 0, 0, 1, 1, 1, 0, 0, 0, 0, 1, 0,\n",
       "       1, 1, 1, 1, 0, 0, 0, 0, 0, 0, 0, 0, 1, 1, 0, 0, 1, 0, 0, 0, 0, 0,\n",
       "       1, 0, 0, 1, 1, 0, 1, 0, 1, 0, 0, 0, 0, 0, 0, 1, 0, 0, 1, 0, 0, 0,\n",
       "       0, 0, 0, 1, 0, 0, 1, 0, 1, 1, 1, 0, 1, 0, 0, 1, 1, 1, 0, 0, 0, 0,\n",
       "       0, 0, 0, 1, 0, 0, 0, 1, 0, 0, 1, 1, 0, 1, 0, 1, 1, 0, 0, 1, 0, 1,\n",
       "       1, 0, 1, 1, 0, 0, 1, 0, 1, 0, 0, 1, 0, 0, 1, 1, 1, 0, 0, 0, 1, 1,\n",
       "       0, 1, 1, 0, 0, 0, 1, 0, 1, 1, 1, 1, 0, 0, 1, 0, 0, 1, 1, 1, 1, 1,\n",
       "       1, 0, 0, 0, 0, 0, 0, 0, 1, 1, 1, 1, 0, 0, 0, 0, 1, 0, 1, 0, 0, 0,\n",
       "       0, 0, 1, 1, 1, 0, 0, 1, 0, 0, 1, 1, 1, 1, 0, 0, 1, 1, 0, 0, 0, 1,\n",
       "       1, 1, 0, 0, 1, 0, 0, 0, 0, 1, 0, 0, 0, 0, 0, 0, 0, 0, 0, 1, 0, 0,\n",
       "       0, 0, 0, 0, 1, 0, 0, 1, 0, 0, 1, 1, 1, 0, 1, 1, 0, 1, 0, 0, 0, 0,\n",
       "       1, 0])"
      ]
     },
     "execution_count": 24,
     "metadata": {},
     "output_type": "execute_result"
    }
   ],
   "source": [
    "Y_train\n",
    "#type(Y_train)"
   ]
  },
  {
   "cell_type": "code",
   "execution_count": 25,
   "metadata": {},
   "outputs": [
    {
     "data": {
      "text/plain": [
       "array([0.1058  , 0.03821 , 0.006953, 0.02701 , 0.01037 , 0.003586,\n",
       "       0.0875  ])"
      ]
     },
     "execution_count": 25,
     "metadata": {},
     "output_type": "execute_result"
    }
   ],
   "source": [
    "X_test[0]"
   ]
  },
  {
   "cell_type": "code",
   "execution_count": 26,
   "metadata": {},
   "outputs": [],
   "source": [
    "knnCls = RadiusNeighborsClassifier(radius=10.0,p=2, weights='uniform')"
   ]
  },
  {
   "cell_type": "code",
   "execution_count": 27,
   "metadata": {},
   "outputs": [
    {
     "data": {
      "text/plain": [
       "RadiusNeighborsClassifier(radius=10.0)"
      ]
     },
     "execution_count": 27,
     "metadata": {},
     "output_type": "execute_result"
    }
   ],
   "source": [
    "knnCls.fit(X_train,Y_train)"
   ]
  },
  {
   "cell_type": "code",
   "execution_count": 28,
   "metadata": {},
   "outputs": [
    {
     "name": "stdout",
     "output_type": "stream",
     "text": [
      "[0 0 0 0 0 0 0 0 0 0 0 0 0 0 0 0 0 0 0 0 0 0 0 0 0 0 0 0 0 0 0 0 0 0 0 0 0\n",
      " 0 0 0 0 0 0 0 0 0 0 0 0 0 0 0 0 0 0 0 0 0 0 0 0 0 0 0 0 0 0 0 0 0 0 0 0 0\n",
      " 0 0 0 0 0 0 0 0 0 0 0 0 0 0 0 0 0 0 0 0 0 0 0 0 0 0 0 0 0 0 0 0 0 0 0 0 0\n",
      " 0 0 0 0 0 0 0 0 0 0 0 0 0 0 0 0 0 0 0 0 0 0 0 0 0 0 0 0 0 0 0 0 0 0 0 0 0\n",
      " 0 0 0 0 0 0 0 0 0 0 0 0 0 0 0 0 0 0 0 0 0 0 0]\n"
     ]
    }
   ],
   "source": [
    "Y_Pred_TEST = knnCls.predict(X_test)\n",
    "print(Y_Pred_TEST)\n",
    "Y_Pred_TRAIN = knnCls.predict(X_train)\n",
    "#sc =  knnCls.score(Y_test,Y_Pred_TEST)\n",
    "#print(sc)\n",
    "#sc2 = knnCls.score(Y_train,Y_Pred_TRAIN)\n",
    "#print(sc2)\n",
    "\n",
    "# print(\" ACCURACY SCORE FOR TEST DATA : \",lrRegression.score(Y_test, Y_Pred_TEST))\n",
    "# print(\" ACCURACY SCORE FOR TRAIN DATA : \",lrRegression.score(Y_train, Y_Pred_TRAIN))\n",
    "#Y_Pred = lrRegression.predict(X_test[0].reshape(1,-1))\n",
    "\n",
    "# for one value prediction\n",
    "#print(lrRegression.predict(X_test[0].reshape(1,-1)))\n",
    "\n",
    "# for multiple value prediction\n",
    "#print(lrRegression.predict(X_test[0:10]))"
   ]
  },
  {
   "cell_type": "code",
   "execution_count": 29,
   "metadata": {},
   "outputs": [
    {
     "name": "stdout",
     "output_type": "stream",
     "text": [
      "TEST DATA  Confusion Matrix:\n",
      "[[108   0]\n",
      " [ 63   0]]\n"
     ]
    }
   ],
   "source": [
    "result = confusion_matrix(Y_test, Y_Pred_TEST)\n",
    "print(\"TEST DATA  Confusion Matrix:\")\n",
    "print(result)"
   ]
  },
  {
   "cell_type": "code",
   "execution_count": 30,
   "metadata": {},
   "outputs": [
    {
     "name": "stdout",
     "output_type": "stream",
     "text": [
      "TRAIN DATA  Confusion Matrix:\n",
      "[[249   0]\n",
      " [149   0]]\n"
     ]
    }
   ],
   "source": [
    "result = confusion_matrix(Y_train, Y_Pred_TRAIN)\n",
    "print(\"TRAIN DATA  Confusion Matrix:\")\n",
    "print(result)"
   ]
  },
  {
   "cell_type": "code",
   "execution_count": 31,
   "metadata": {},
   "outputs": [
    {
     "name": "stdout",
     "output_type": "stream",
     "text": [
      "(171,)\n",
      "(398,)\n"
     ]
    }
   ],
   "source": [
    "print(Y_Pred_TEST.shape)\n",
    "print(Y_Pred_TRAIN.shape)"
   ]
  },
  {
   "cell_type": "code",
   "execution_count": 32,
   "metadata": {},
   "outputs": [
    {
     "name": "stdout",
     "output_type": "stream",
     "text": [
      "TEST DATA PRedict :  0.631578947368421\n",
      "TRAIN DATA PRedict :  0.6256281407035176\n"
     ]
    }
   ],
   "source": [
    "acc =  accuracy_score(Y_test, Y_Pred_TEST)\n",
    "acc2 = accuracy_score(Y_train, Y_Pred_TRAIN)\n",
    "print(\"TEST DATA PRedict : \", acc)\n",
    "print(\"TRAIN DATA PRedict : \",acc2)"
   ]
  },
  {
   "cell_type": "markdown",
   "metadata": {},
   "source": [
    "----------------------------------------------------------------------------------------------------------\n",
    "FROM STEP SELECTKBEST WHEN k = 7 AND K VALUE FOR NEOGHBORS NEAIGBOR = 4\n",
    "TEST DATA PRedict :  0.9473684210526315\n",
    "TRAIN DATA PRedict :  0.9274725274725275\n",
    "----------------------------------------------------------------------------------------------------------"
   ]
  },
  {
   "cell_type": "code",
   "execution_count": 33,
   "metadata": {},
   "outputs": [
    {
     "data": {
      "text/plain": [
       "array([[108,   0],\n",
       "       [ 63,   0]])"
      ]
     },
     "execution_count": 33,
     "metadata": {},
     "output_type": "execute_result"
    }
   ],
   "source": [
    "from sklearn.metrics import confusion_matrix, r2_score, accuracy_score\n",
    "cm = confusion_matrix(Y_test, Y_Pred_TEST)\n",
    "cm"
   ]
  },
  {
   "cell_type": "code",
   "execution_count": 34,
   "metadata": {},
   "outputs": [
    {
     "name": "stdout",
     "output_type": "stream",
     "text": [
      "              precision    recall  f1-score   support\n",
      "\n",
      "           0       0.63      1.00      0.77       108\n",
      "           1       0.00      0.00      0.00        63\n",
      "\n",
      "    accuracy                           0.63       171\n",
      "   macro avg       0.32      0.50      0.39       171\n",
      "weighted avg       0.40      0.63      0.49       171\n",
      "\n"
     ]
    },
    {
     "name": "stderr",
     "output_type": "stream",
     "text": [
      "/root/anaconda3/lib/python3.7/site-packages/sklearn/metrics/_classification.py:1318: UndefinedMetricWarning: Precision and F-score are ill-defined and being set to 0.0 in labels with no predicted samples. Use `zero_division` parameter to control this behavior.\n",
      "  _warn_prf(average, modifier, msg_start, len(result))\n",
      "/root/anaconda3/lib/python3.7/site-packages/sklearn/metrics/_classification.py:1318: UndefinedMetricWarning: Precision and F-score are ill-defined and being set to 0.0 in labels with no predicted samples. Use `zero_division` parameter to control this behavior.\n",
      "  _warn_prf(average, modifier, msg_start, len(result))\n",
      "/root/anaconda3/lib/python3.7/site-packages/sklearn/metrics/_classification.py:1318: UndefinedMetricWarning: Precision and F-score are ill-defined and being set to 0.0 in labels with no predicted samples. Use `zero_division` parameter to control this behavior.\n",
      "  _warn_prf(average, modifier, msg_start, len(result))\n"
     ]
    }
   ],
   "source": [
    "classreport=  classification_report(Y_test, Y_Pred_TEST)\n",
    "print(classreport)"
   ]
  },
  {
   "cell_type": "markdown",
   "metadata": {},
   "source": [
    "PREVIOUS REPORT FROM SELECTKBEST \n",
    " precision    recall  f1-score   support\n",
    "\n",
    "           0       0.97      1.00      0.99        71\n",
    "           1       1.00      0.95      0.98        43\n",
    "\n",
    "    accuracy                           0.98       114\n",
    "   macro avg       0.99      0.98      0.98       114\n",
    "weighted avg       0.98      0.98      0.98       114\n"
   ]
  },
  {
   "cell_type": "code",
   "execution_count": 35,
   "metadata": {},
   "outputs": [
    {
     "name": "stdout",
     "output_type": "stream",
     "text": [
      "              precision    recall  f1-score   support\n",
      "\n",
      "           0       0.63      1.00      0.77       249\n",
      "           1       0.00      0.00      0.00       149\n",
      "\n",
      "    accuracy                           0.63       398\n",
      "   macro avg       0.31      0.50      0.38       398\n",
      "weighted avg       0.39      0.63      0.48       398\n",
      "\n"
     ]
    },
    {
     "name": "stderr",
     "output_type": "stream",
     "text": [
      "/root/anaconda3/lib/python3.7/site-packages/sklearn/metrics/_classification.py:1318: UndefinedMetricWarning: Precision and F-score are ill-defined and being set to 0.0 in labels with no predicted samples. Use `zero_division` parameter to control this behavior.\n",
      "  _warn_prf(average, modifier, msg_start, len(result))\n",
      "/root/anaconda3/lib/python3.7/site-packages/sklearn/metrics/_classification.py:1318: UndefinedMetricWarning: Precision and F-score are ill-defined and being set to 0.0 in labels with no predicted samples. Use `zero_division` parameter to control this behavior.\n",
      "  _warn_prf(average, modifier, msg_start, len(result))\n",
      "/root/anaconda3/lib/python3.7/site-packages/sklearn/metrics/_classification.py:1318: UndefinedMetricWarning: Precision and F-score are ill-defined and being set to 0.0 in labels with no predicted samples. Use `zero_division` parameter to control this behavior.\n",
      "  _warn_prf(average, modifier, msg_start, len(result))\n"
     ]
    }
   ],
   "source": [
    "classreport2 =  classification_report(Y_train, Y_Pred_TRAIN)\n",
    "print(classreport2)"
   ]
  },
  {
   "cell_type": "markdown",
   "metadata": {},
   "source": [
    "PREVIOUS REPORT FROM SELECTKBEST\n",
    " precision    recall  f1-score   support\n",
    "\n",
    "           0       0.94      0.96      0.95       286\n",
    "           1       0.93      0.89      0.91       169\n",
    "\n",
    "    accuracy                           0.93       455\n",
    "   macro avg       0.93      0.93      0.93       455\n",
    "weighted avg       0.93      0.93      0.93       455"
   ]
  },
  {
   "cell_type": "code",
   "execution_count": 36,
   "metadata": {},
   "outputs": [
    {
     "data": {
      "text/plain": [
       "0.631578947368421"
      ]
     },
     "execution_count": 36,
     "metadata": {},
     "output_type": "execute_result"
    }
   ],
   "source": [
    "# SCORE ACCURACY FOR TEST DATA\n",
    "score = knnCls.score(X_test, Y_test)\n",
    "score"
   ]
  },
  {
   "cell_type": "code",
   "execution_count": 37,
   "metadata": {},
   "outputs": [
    {
     "data": {
      "text/plain": [
       "0.6256281407035176"
      ]
     },
     "execution_count": 37,
     "metadata": {},
     "output_type": "execute_result"
    }
   ],
   "source": [
    "# SCORE ACCURACY FOR TRAIN DATA\n",
    "score = knnCls.score(X_train, Y_train)\n",
    "score"
   ]
  },
  {
   "cell_type": "markdown",
   "metadata": {},
   "source": [
    "TEST DATA prev 1 accuracy \n",
    "0.9824561403508771"
   ]
  },
  {
   "cell_type": "code",
   "execution_count": 38,
   "metadata": {},
   "outputs": [
    {
     "data": {
      "text/plain": [
       "Text(0.5,1,'Accuracy Score: 0.6256281407035176')"
      ]
     },
     "execution_count": 38,
     "metadata": {},
     "output_type": "execute_result"
    },
    {
     "data": {
      "image/png": "[encoded data removed]",
      "text/plain": [
       "<Figure size 720x720 with 2 Axes>"
      ]
     },
     "metadata": {
      "needs_background": "light"
     },
     "output_type": "display_data"
    }
   ],
   "source": [
    "plt.figure(figsize=(10,10))\n",
    "sns.heatmap(cm, annot=True, cmap='Blues_r', square=True)\n",
    "plt.ylabel(\"Actual Values\")\n",
    "plt.xlabel(\"Predicted Values\")\n",
    "all_title = 'Accuracy Score: {0}'.format(score)\n",
    "plt.title(all_title,  size=20)"
   ]
  },
  {
   "cell_type": "code",
   "execution_count": 39,
   "metadata": {},
   "outputs": [
    {
     "data": {
      "text/plain": [
       "array([0, 1])"
      ]
     },
     "execution_count": 39,
     "metadata": {},
     "output_type": "execute_result"
    }
   ],
   "source": [
    "knnCls.classes_"
   ]
  },
  {
   "cell_type": "code",
   "execution_count": 40,
   "metadata": {},
   "outputs": [
    {
     "data": {
      "text/plain": [
       "0.3684210526315789"
      ]
     },
     "execution_count": 40,
     "metadata": {},
     "output_type": "execute_result"
    }
   ],
   "source": [
    "# MSE FOR TEST PREDICTION\n",
    "mse = mean_squared_error(Y_test, Y_Pred_TEST) \n",
    "mse"
   ]
  },
  {
   "cell_type": "code",
   "execution_count": 41,
   "metadata": {},
   "outputs": [
    {
     "data": {
      "text/plain": [
       "0.3743718592964824"
      ]
     },
     "execution_count": 41,
     "metadata": {},
     "output_type": "execute_result"
    }
   ],
   "source": [
    "# MSE FOR TRAIN PREDICTION\n",
    "mse = mean_squared_error(Y_train, Y_Pred_TRAIN) \n",
    "mse"
   ]
  },
  {
   "cell_type": "code",
   "execution_count": null,
   "metadata": {},
   "outputs": [],
   "source": []
  }
 ],
 "metadata": {
  "kernelspec": {
   "display_name": "Python 3",
   "language": "python",
   "name": "python3"
  },
  "language_info": {
   "codemirror_mode": {
    "name": "ipython",
    "version": 3
   },
   "file_extension": ".py",
   "mimetype": "text/x-python",
   "name": "python",
   "nbconvert_exporter": "python",
   "pygments_lexer": "ipython3",
   "version": "3.7.3"
  }
 },
 "nbformat": 4,
 "nbformat_minor": 5
}
